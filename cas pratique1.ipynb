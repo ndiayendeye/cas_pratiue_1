{
 "cells": [
  {
   "cell_type": "code",
   "execution_count": 3,
   "id": "3be02201",
   "metadata": {},
   "outputs": [],
   "source": [
    "import numpy as np\n",
    "import pandas as pd\n",
    "import matplotlib.pyplot as plt\n"
   ]
  },
  {
   "cell_type": "code",
   "execution_count": 4,
   "id": "ace74953",
   "metadata": {},
   "outputs": [
    {
     "name": "stdout",
     "output_type": "stream",
     "text": [
      "les noms des feuilles sont: ['Pluvio_fatick', 'Pluvio_Toubacouta', 'Pluvio_Foundioune']\n"
     ]
    },
    {
     "data": {
      "text/html": [
       "<div>\n",
       "<style scoped>\n",
       "    .dataframe tbody tr th:only-of-type {\n",
       "        vertical-align: middle;\n",
       "    }\n",
       "\n",
       "    .dataframe tbody tr th {\n",
       "        vertical-align: top;\n",
       "    }\n",
       "\n",
       "    .dataframe thead th {\n",
       "        text-align: right;\n",
       "    }\n",
       "</style>\n",
       "<table border=\"1\" class=\"dataframe\">\n",
       "  <thead>\n",
       "    <tr style=\"text-align: right;\">\n",
       "      <th></th>\n",
       "      <th>Stations</th>\n",
       "      <th>Annees</th>\n",
       "      <th>Janv</th>\n",
       "      <th>Fevr</th>\n",
       "      <th>Mars</th>\n",
       "      <th>Avr</th>\n",
       "      <th>Mai</th>\n",
       "      <th>Juin</th>\n",
       "      <th>Juil</th>\n",
       "      <th>Aout</th>\n",
       "      <th>Sept</th>\n",
       "      <th>Oct</th>\n",
       "      <th>Nov</th>\n",
       "      <th>Dec</th>\n",
       "    </tr>\n",
       "  </thead>\n",
       "  <tbody>\n",
       "    <tr>\n",
       "      <th>0</th>\n",
       "      <td>Foundiougne</td>\n",
       "      <td>1950</td>\n",
       "      <td>0.0</td>\n",
       "      <td>0.0</td>\n",
       "      <td>0.0</td>\n",
       "      <td>0.0</td>\n",
       "      <td>5.2</td>\n",
       "      <td>67.1</td>\n",
       "      <td>143.2</td>\n",
       "      <td>504.8</td>\n",
       "      <td>308.9</td>\n",
       "      <td>157.2</td>\n",
       "      <td>7.2</td>\n",
       "      <td>0.0</td>\n",
       "    </tr>\n",
       "    <tr>\n",
       "      <th>1</th>\n",
       "      <td>Foundiougne</td>\n",
       "      <td>1951</td>\n",
       "      <td>0.0</td>\n",
       "      <td>0.0</td>\n",
       "      <td>0.0</td>\n",
       "      <td>0.0</td>\n",
       "      <td>16.8</td>\n",
       "      <td>12.6</td>\n",
       "      <td>131.2</td>\n",
       "      <td>310.4</td>\n",
       "      <td>198.5</td>\n",
       "      <td>199.9</td>\n",
       "      <td>8.4</td>\n",
       "      <td>0.0</td>\n",
       "    </tr>\n",
       "    <tr>\n",
       "      <th>2</th>\n",
       "      <td>Foundiougne</td>\n",
       "      <td>1952</td>\n",
       "      <td>0.0</td>\n",
       "      <td>0.0</td>\n",
       "      <td>0.0</td>\n",
       "      <td>1.3</td>\n",
       "      <td>7.1</td>\n",
       "      <td>47.0</td>\n",
       "      <td>244.9</td>\n",
       "      <td>297.5</td>\n",
       "      <td>242.7</td>\n",
       "      <td>79.0</td>\n",
       "      <td>0.0</td>\n",
       "      <td>0.0</td>\n",
       "    </tr>\n",
       "    <tr>\n",
       "      <th>3</th>\n",
       "      <td>Foundiougne</td>\n",
       "      <td>1953</td>\n",
       "      <td>0.0</td>\n",
       "      <td>0.0</td>\n",
       "      <td>0.0</td>\n",
       "      <td>0.0</td>\n",
       "      <td>0.0</td>\n",
       "      <td>5.2</td>\n",
       "      <td>267.5</td>\n",
       "      <td>311.5</td>\n",
       "      <td>398.0</td>\n",
       "      <td>71.1</td>\n",
       "      <td>0.0</td>\n",
       "      <td>0.0</td>\n",
       "    </tr>\n",
       "    <tr>\n",
       "      <th>4</th>\n",
       "      <td>Foundiougne</td>\n",
       "      <td>1954</td>\n",
       "      <td>0.0</td>\n",
       "      <td>0.0</td>\n",
       "      <td>0.0</td>\n",
       "      <td>0.0</td>\n",
       "      <td>0.0</td>\n",
       "      <td>85.0</td>\n",
       "      <td>205.5</td>\n",
       "      <td>482.8</td>\n",
       "      <td>97.7</td>\n",
       "      <td>47.2</td>\n",
       "      <td>8.2</td>\n",
       "      <td>0.0</td>\n",
       "    </tr>\n",
       "    <tr>\n",
       "      <th>...</th>\n",
       "      <td>...</td>\n",
       "      <td>...</td>\n",
       "      <td>...</td>\n",
       "      <td>...</td>\n",
       "      <td>...</td>\n",
       "      <td>...</td>\n",
       "      <td>...</td>\n",
       "      <td>...</td>\n",
       "      <td>...</td>\n",
       "      <td>...</td>\n",
       "      <td>...</td>\n",
       "      <td>...</td>\n",
       "      <td>...</td>\n",
       "      <td>...</td>\n",
       "    </tr>\n",
       "    <tr>\n",
       "      <th>63</th>\n",
       "      <td>Foundiougne</td>\n",
       "      <td>2013</td>\n",
       "      <td>0.0</td>\n",
       "      <td>0.0</td>\n",
       "      <td>0.0</td>\n",
       "      <td>0.0</td>\n",
       "      <td>0.0</td>\n",
       "      <td>46.5</td>\n",
       "      <td>35.3</td>\n",
       "      <td>392.0</td>\n",
       "      <td>148.2</td>\n",
       "      <td>32.0</td>\n",
       "      <td>0.0</td>\n",
       "      <td>0.0</td>\n",
       "    </tr>\n",
       "    <tr>\n",
       "      <th>64</th>\n",
       "      <td>Foundiougne</td>\n",
       "      <td>2014</td>\n",
       "      <td>0.0</td>\n",
       "      <td>0.0</td>\n",
       "      <td>0.0</td>\n",
       "      <td>0.0</td>\n",
       "      <td>0.0</td>\n",
       "      <td>16.0</td>\n",
       "      <td>48.8</td>\n",
       "      <td>127.0</td>\n",
       "      <td>247.1</td>\n",
       "      <td>19.3</td>\n",
       "      <td>0.0</td>\n",
       "      <td>0.0</td>\n",
       "    </tr>\n",
       "    <tr>\n",
       "      <th>65</th>\n",
       "      <td>Foundiougne</td>\n",
       "      <td>2015</td>\n",
       "      <td>0.0</td>\n",
       "      <td>0.0</td>\n",
       "      <td>0.0</td>\n",
       "      <td>0.0</td>\n",
       "      <td>0.0</td>\n",
       "      <td>0.0</td>\n",
       "      <td>45.3</td>\n",
       "      <td>197.4</td>\n",
       "      <td>230.7</td>\n",
       "      <td>100.4</td>\n",
       "      <td>0.0</td>\n",
       "      <td>0.0</td>\n",
       "    </tr>\n",
       "    <tr>\n",
       "      <th>66</th>\n",
       "      <td>Foundiougne</td>\n",
       "      <td>2016</td>\n",
       "      <td>0.0</td>\n",
       "      <td>0.0</td>\n",
       "      <td>0.0</td>\n",
       "      <td>0.0</td>\n",
       "      <td>0.0</td>\n",
       "      <td>5.2</td>\n",
       "      <td>165.7</td>\n",
       "      <td>213.8</td>\n",
       "      <td>134.1</td>\n",
       "      <td>35.0</td>\n",
       "      <td>0.0</td>\n",
       "      <td>0.0</td>\n",
       "    </tr>\n",
       "    <tr>\n",
       "      <th>67</th>\n",
       "      <td>Foundiougne</td>\n",
       "      <td>2017</td>\n",
       "      <td>0.0</td>\n",
       "      <td>0.0</td>\n",
       "      <td>0.0</td>\n",
       "      <td>0.0</td>\n",
       "      <td>0.0</td>\n",
       "      <td>19.5</td>\n",
       "      <td>236.0</td>\n",
       "      <td>263.2</td>\n",
       "      <td>77.8</td>\n",
       "      <td>0.0</td>\n",
       "      <td>0.0</td>\n",
       "      <td>0.0</td>\n",
       "    </tr>\n",
       "  </tbody>\n",
       "</table>\n",
       "<p>68 rows × 14 columns</p>\n",
       "</div>"
      ],
      "text/plain": [
       "       Stations  Annees  Janv  Fevr  Mars  Avr   Mai  Juin   Juil   Aout  \\\n",
       "0   Foundiougne    1950   0.0   0.0   0.0  0.0   5.2  67.1  143.2  504.8   \n",
       "1   Foundiougne    1951   0.0   0.0   0.0  0.0  16.8  12.6  131.2  310.4   \n",
       "2   Foundiougne    1952   0.0   0.0   0.0  1.3   7.1  47.0  244.9  297.5   \n",
       "3   Foundiougne    1953   0.0   0.0   0.0  0.0   0.0   5.2  267.5  311.5   \n",
       "4   Foundiougne    1954   0.0   0.0   0.0  0.0   0.0  85.0  205.5  482.8   \n",
       "..          ...     ...   ...   ...   ...  ...   ...   ...    ...    ...   \n",
       "63  Foundiougne    2013   0.0   0.0   0.0  0.0   0.0  46.5   35.3  392.0   \n",
       "64  Foundiougne    2014   0.0   0.0   0.0  0.0   0.0  16.0   48.8  127.0   \n",
       "65  Foundiougne    2015   0.0   0.0   0.0  0.0   0.0   0.0   45.3  197.4   \n",
       "66  Foundiougne    2016   0.0   0.0   0.0  0.0   0.0   5.2  165.7  213.8   \n",
       "67  Foundiougne    2017   0.0   0.0   0.0  0.0   0.0  19.5  236.0  263.2   \n",
       "\n",
       "     Sept    Oct  Nov  Dec  \n",
       "0   308.9  157.2  7.2  0.0  \n",
       "1   198.5  199.9  8.4  0.0  \n",
       "2   242.7   79.0  0.0  0.0  \n",
       "3   398.0   71.1  0.0  0.0  \n",
       "4    97.7   47.2  8.2  0.0  \n",
       "..    ...    ...  ...  ...  \n",
       "63  148.2   32.0  0.0  0.0  \n",
       "64  247.1   19.3  0.0  0.0  \n",
       "65  230.7  100.4  0.0  0.0  \n",
       "66  134.1   35.0  0.0  0.0  \n",
       "67   77.8    0.0  0.0  0.0  \n",
       "\n",
       "[68 rows x 14 columns]"
      ]
     },
     "execution_count": 4,
     "metadata": {},
     "output_type": "execute_result"
    }
   ],
   "source": [
    "#tranformer le fichier en dataframe\n",
    "pluvio=pd.ExcelFile(\"pluvio_senegal.xlsx\" ,engine=\"openpyxl\")\n",
    "\n",
    "\n",
    "\n",
    "# Affichage des noms de feuilles\n",
    "print(\"les noms des feuilles sont:\",pluvio.sheet_names)\n",
    "\n",
    "\n",
    "# Chargement d'une feuille \n",
    "feuille=pluvio.parse(\"Pluvio_Foundioune\")\n",
    "feuille\n"
   ]
  },
  {
   "cell_type": "code",
   "execution_count": 8,
   "id": "d5362a5b",
   "metadata": {},
   "outputs": [
    {
     "data": {
      "text/plain": [
       "[<matplotlib.lines.Line2D at 0xc4c6936fa0>]"
      ]
     },
     "execution_count": 8,
     "metadata": {},
     "output_type": "execute_result"
    },
    {
     "data": {
      "image/png": "[encoded data removed]",
      "text/plain": [
       "<Figure size 864x576 with 1 Axes>"
      ]
     },
     "metadata": {
      "needs_background": "light"
     },
     "output_type": "display_data"
    }
   ],
   "source": [
    "#tracer la courbe de la pluviométrie du mois de janvier en fonction des années\n",
    "fig1,ax1=plt.subplots(figsize=(12,8))\n",
    "plt.plot(feuille.Annees,feuille.Janv)\n"
   ]
  },
  {
   "cell_type": "code",
   "execution_count": 9,
   "id": "9a8d7ccb",
   "metadata": {},
   "outputs": [
    {
     "data": {
      "image/png": "[encoded data removed]",
      "text/plain": [
       "<Figure size 864x576 with 1 Axes>"
      ]
     },
     "metadata": {
      "needs_background": "light"
     },
     "output_type": "display_data"
    }
   ],
   "source": [
    "# afficher la courbe entre 2000 et 2010\n",
    "fig2,ax2=plt.subplots(figsize=(12,8))\n",
    "x0=feuille.Annees[50:61]\n",
    "y0=feuille.Janv[50:61]\n",
    "plt.plot(x0,y0)\n",
    "plt.show()\n",
    "\n",
    "\n",
    "\n",
    "\n"
   ]
  },
  {
   "cell_type": "code",
   "execution_count": 22,
   "id": "5382a932",
   "metadata": {},
   "outputs": [
    {
     "name": "stdout",
     "output_type": "stream",
     "text": [
      "l'annee ou la courbe est max est: 2002\n"
     ]
    }
   ],
   "source": [
    "c=np.where(feuille.Janv.values==feuille.Janv.max())\n",
    "annee=feuille.Annees[c[0][0]]\n",
    "print(\"l'annee ou la courbe est max est:\",annee)\n",
    "\n",
    "\n",
    "\n",
    "\n",
    "\n"
   ]
  },
  {
   "cell_type": "code",
   "execution_count": 23,
   "id": "e9822b6e",
   "metadata": {},
   "outputs": [
    {
     "name": "stdout",
     "output_type": "stream",
     "text": [
      "[1.70000e-01 8.20000e-01 0.00000e+00 6.50000e-02 1.89500e+00 4.54500e+01\n",
      " 1.68215e+02 3.18750e+02 2.33645e+02 7.71350e+01 3.29000e+00 5.50000e-01]\n"
     ]
    },
    {
     "data": {
      "text/plain": [
       "array([[0.000e+00, 0.000e+00, 0.000e+00, 0.000e+00, 5.200e+00, 6.710e+01,\n",
       "        1.432e+02, 5.048e+02, 3.089e+02, 1.572e+02, 7.200e+00, 0.000e+00],\n",
       "       [0.000e+00, 0.000e+00, 0.000e+00, 0.000e+00, 1.680e+01, 1.260e+01,\n",
       "        1.312e+02, 3.104e+02, 1.985e+02, 1.999e+02, 8.400e+00, 0.000e+00],\n",
       "       [0.000e+00, 0.000e+00, 0.000e+00, 1.300e+00, 7.100e+00, 4.700e+01,\n",
       "        2.449e+02, 2.975e+02, 2.427e+02, 7.900e+01, 0.000e+00, 0.000e+00],\n",
       "       [0.000e+00, 0.000e+00, 0.000e+00, 0.000e+00, 0.000e+00, 5.200e+00,\n",
       "        2.675e+02, 3.115e+02, 3.980e+02, 7.110e+01, 0.000e+00, 0.000e+00],\n",
       "       [0.000e+00, 0.000e+00, 0.000e+00, 0.000e+00, 0.000e+00, 8.500e+01,\n",
       "        2.055e+02, 4.828e+02, 9.770e+01, 4.720e+01, 8.200e+00, 0.000e+00],\n",
       "       [0.000e+00, 0.000e+00, 0.000e+00, 0.000e+00, 2.500e+00, 4.000e+01,\n",
       "        3.938e+02, 3.957e+02, 3.742e+02, 1.500e+00, 0.000e+00, 0.000e+00],\n",
       "       [0.000e+00, 0.000e+00, 0.000e+00, 0.000e+00, 0.000e+00, 8.520e+01,\n",
       "        1.673e+02, 2.208e+02, 2.075e+02, 8.400e+01, 0.000e+00, 8.500e+00],\n",
       "       [0.000e+00, 0.000e+00, 0.000e+00, 0.000e+00, 0.000e+00, 4.700e+01,\n",
       "        1.243e+02, 2.207e+02, 3.060e+02, 1.248e+02, 0.000e+00, 2.500e+00],\n",
       "       [0.000e+00, 0.000e+00, 0.000e+00, 0.000e+00, 0.000e+00, 7.700e+01,\n",
       "        1.577e+02, 4.752e+02, 2.420e+02, 5.980e+01, 0.000e+00, 0.000e+00],\n",
       "       [0.000e+00, 0.000e+00, 0.000e+00, 0.000e+00, 6.300e+00, 1.530e+01,\n",
       "        5.810e+01, 2.424e+02, 2.155e+02, 1.850e+01, 0.000e+00, 0.000e+00],\n",
       "       [0.000e+00, 0.000e+00, 0.000e+00, 0.000e+00, 0.000e+00, 5.570e+01,\n",
       "        2.083e+02, 2.370e+02, 1.521e+02, 7.700e+00, 0.000e+00, 0.000e+00],\n",
       "       [0.000e+00, 0.000e+00, 0.000e+00, 0.000e+00, 0.000e+00, 4.550e+01,\n",
       "        1.897e+02, 1.729e+02, 1.469e+02, 1.570e+01, 0.000e+00, 0.000e+00],\n",
       "       [0.000e+00, 8.000e-01, 0.000e+00, 0.000e+00, 0.000e+00, 6.970e+01,\n",
       "        4.210e+01, 5.211e+02, 8.290e+01, 7.820e+01, 4.200e+01, 0.000e+00],\n",
       "       [0.000e+00, 0.000e+00, 0.000e+00, 0.000e+00, 0.000e+00, 6.100e+00,\n",
       "        1.216e+02, 2.405e+02, 2.391e+02, 1.241e+02, 0.000e+00, 0.000e+00],\n",
       "       [3.400e+00, 0.000e+00, 0.000e+00, 0.000e+00, 0.000e+00, 3.890e+01,\n",
       "        1.375e+02, 3.948e+02, 2.501e+02, 4.540e+01, 0.000e+00, 0.000e+00],\n",
       "       [0.000e+00, 0.000e+00, 0.000e+00, 0.000e+00, 0.000e+00, 5.260e+01,\n",
       "        1.713e+02, 2.965e+02, 1.338e+02, 4.630e+01, 0.000e+00, 0.000e+00],\n",
       "       [0.000e+00, 0.000e+00, 0.000e+00, 0.000e+00, 0.000e+00, 8.610e+01,\n",
       "        6.370e+01, 3.502e+02, 3.496e+02, 1.551e+02, 0.000e+00, 0.000e+00],\n",
       "       [0.000e+00, 0.000e+00, 0.000e+00, 0.000e+00, 0.000e+00, 3.880e+01,\n",
       "        2.442e+02, 3.270e+02, 4.090e+02, 1.058e+02, 0.000e+00, 0.000e+00],\n",
       "       [0.000e+00, 1.560e+01, 0.000e+00, 0.000e+00, 0.000e+00, 3.420e+01,\n",
       "        1.385e+02, 7.560e+01, 1.537e+02, 4.590e+01, 0.000e+00, 0.000e+00],\n",
       "       [0.000e+00, 0.000e+00, 0.000e+00, 0.000e+00, 0.000e+00, 0.000e+00,\n",
       "        1.539e+02, 2.976e+02, 1.647e+02, 7.550e+01, 0.000e+00, 0.000e+00],\n",
       "       [0.000e+00, 0.000e+00, 0.000e+00, 0.000e+00, 0.000e+00, 1.930e+01,\n",
       "        9.400e+01, 3.532e+02, 9.210e+01, 1.000e+01, 0.000e+00, 0.000e+00],\n",
       "       [0.000e+00, 0.000e+00, 0.000e+00, 0.000e+00, 0.000e+00, 4.390e+01,\n",
       "        2.623e+02, 3.049e+02, 3.321e+02, 5.900e+00, 0.000e+00, 0.000e+00],\n",
       "       [2.000e+00, 0.000e+00, 0.000e+00, 0.000e+00, 0.000e+00, 5.700e+01,\n",
       "        2.120e+01, 1.938e+02, 1.274e+02, 1.410e+01, 0.000e+00, 0.000e+00],\n",
       "       [0.000e+00, 0.000e+00, 0.000e+00, 0.000e+00, 0.000e+00, 7.420e+01,\n",
       "        1.398e+02, 1.933e+02, 9.590e+01, 4.300e+01, 0.000e+00, 0.000e+00],\n",
       "       [0.000e+00, 0.000e+00, 0.000e+00, 0.000e+00, 3.000e-01, 2.200e+00,\n",
       "        8.050e+01, 3.338e+02, 2.077e+02, 1.020e+01, 0.000e+00, 0.000e+00],\n",
       "       [0.000e+00, 0.000e+00, 0.000e+00, 0.000e+00, 5.000e-01, 0.000e+00,\n",
       "        2.031e+02, 1.939e+02, 1.433e+02, 6.460e+01, 0.000e+00, 0.000e+00],\n",
       "       [0.000e+00, 0.000e+00, 0.000e+00, 4.000e-01, 6.400e+00, 1.950e+01,\n",
       "        1.073e+02, 1.328e+02, 2.078e+02, 5.180e+01, 1.000e+00, 1.500e+00],\n",
       "       [0.000e+00, 0.000e+00, 0.000e+00, 0.000e+00, 0.000e+00, 1.600e+01,\n",
       "        4.950e+01, 1.731e+02, 1.890e+02, 0.000e+00, 0.000e+00, 0.000e+00],\n",
       "       [0.000e+00, 0.000e+00, 0.000e+00, 0.000e+00, 0.000e+00, 2.350e+01,\n",
       "        1.327e+02, 2.825e+02, 7.850e+01, 3.500e+01, 3.650e+01, 2.000e+00],\n",
       "       [1.000e+01, 0.000e+00, 0.000e+00, 0.000e+00, 3.000e+00, 1.605e+02,\n",
       "        1.331e+02, 1.695e+02, 6.350e+01, 3.300e+01, 0.000e+00, 4.500e+00],\n",
       "       [0.000e+00, 0.000e+00, 0.000e+00, 0.000e+00, 0.000e+00, 6.300e+00,\n",
       "        3.180e+01, 1.457e+02, 2.794e+02, 1.560e+01, 0.000e+00, 0.000e+00],\n",
       "       [0.000e+00, 0.000e+00, 0.000e+00, 0.000e+00, 0.000e+00, 3.500e+01,\n",
       "        1.586e+02, 2.227e+02, 4.750e+01, 1.170e+01, 0.000e+00, 0.000e+00],\n",
       "       [0.000e+00, 0.000e+00, 0.000e+00, 0.000e+00, 0.000e+00, 2.700e+01,\n",
       "        1.558e+02, 2.697e+02, 9.400e+01, 2.890e+01, 0.000e+00, 0.000e+00],\n",
       "       [0.000e+00, 0.000e+00, 0.000e+00, 0.000e+00, 0.000e+00, 4.940e+01,\n",
       "        3.750e+01, 9.910e+01, 7.050e+01, 8.700e+00, 0.000e+00, 0.000e+00],\n",
       "       [0.000e+00, 0.000e+00, 0.000e+00, 0.000e+00, 0.000e+00, 1.670e+02,\n",
       "        9.240e+01, 1.295e+02, 2.430e+02, 1.150e+01, 0.000e+00, 0.000e+00],\n",
       "       [0.000e+00, 0.000e+00, 0.000e+00, 0.000e+00, 0.000e+00, 6.750e+01,\n",
       "        1.651e+02, 1.369e+02, 1.338e+02, 5.250e+01, 0.000e+00, 6.600e+00],\n",
       "       [0.000e+00, 0.000e+00, 0.000e+00, 0.000e+00, 0.000e+00, 7.000e+00,\n",
       "        5.470e+01, 9.660e+01, 3.305e+02, 5.050e+01, 0.000e+00, 0.000e+00],\n",
       "       [0.000e+00, 0.000e+00, 0.000e+00, 0.000e+00, 0.000e+00, 1.800e+00,\n",
       "        1.006e+02, 2.116e+02, 2.045e+02, 8.930e+01, 0.000e+00, 0.000e+00],\n",
       "       [0.000e+00, 0.000e+00, 0.000e+00, 0.000e+00, 1.500e+00, 2.520e+01,\n",
       "        2.020e+01, 2.917e+02, 2.825e+02, 1.450e+01, 0.000e+00, 0.000e+00],\n",
       "       [0.000e+00, 0.000e+00, 0.000e+00, 0.000e+00, 0.000e+00, 1.560e+02,\n",
       "        1.951e+02, 2.976e+02, 1.799e+02, 6.950e+01, 0.000e+00, 0.000e+00],\n",
       "       [0.000e+00, 0.000e+00, 0.000e+00, 0.000e+00, 0.000e+00, 2.300e+01,\n",
       "        7.190e+01, 1.858e+02, 1.627e+02, 3.370e+01, 0.000e+00, 0.000e+00],\n",
       "       [0.000e+00, 0.000e+00, 0.000e+00, 0.000e+00, 0.000e+00, 0.000e+00,\n",
       "        1.803e+02, 1.225e+02, 2.064e+02, 2.870e+01, 0.000e+00, 0.000e+00],\n",
       "       [0.000e+00, 0.000e+00, 0.000e+00, 0.000e+00, 1.020e+01, 2.390e+01,\n",
       "        1.599e+02, 1.138e+02, 1.426e+02, 3.300e+01, 0.000e+00, 0.000e+00],\n",
       "       [0.000e+00, 0.000e+00, 0.000e+00, 0.000e+00, 0.000e+00, 0.000e+00,\n",
       "        1.645e+02, 2.522e+02, 1.701e+02, 1.670e+01, 5.000e-01, 0.000e+00],\n",
       "       [0.000e+00, 0.000e+00, 0.000e+00, 0.000e+00, 0.000e+00, 3.100e+01,\n",
       "        1.088e+02, 2.899e+02, 1.701e+02, 2.180e+01, 0.000e+00, 2.000e-01],\n",
       "       [0.000e+00, 0.000e+00, 0.000e+00, 0.000e+00, 0.000e+00, 8.210e+01,\n",
       "        1.603e+02, 3.787e+02, 1.698e+02, 2.850e+01, 0.000e+00, 1.650e+01],\n",
       "       [0.000e+00, 0.000e+00, 0.000e+00, 0.000e+00, 0.000e+00, 1.010e+01,\n",
       "        1.675e+02, 1.611e+02, 1.759e+02, 1.520e+02, 0.000e+00, 0.000e+00],\n",
       "       [0.000e+00, 0.000e+00, 0.000e+00, 0.000e+00, 5.000e-01, 1.211e+02,\n",
       "        4.190e+01, 2.045e+02, 2.019e+02, 2.000e+00, 0.000e+00, 0.000e+00],\n",
       "       [0.000e+00, 0.000e+00, 0.000e+00, 0.000e+00, 0.000e+00, 0.000e+00,\n",
       "        3.690e+01, 1.858e+02, 1.827e+02, 2.400e+01, 0.000e+00, 0.000e+00],\n",
       "       [0.000e+00, 0.000e+00, 0.000e+00, 0.000e+00, 0.000e+00, 6.770e+01,\n",
       "        1.330e+02, 3.769e+02, 1.761e+02, 1.471e+02, 0.000e+00, 0.000e+00],\n",
       "       [0.000e+00, 0.000e+00, 0.000e+00, 0.000e+00, 0.000e+00, 2.200e+01,\n",
       "        2.393e+02, 3.239e+02, 1.939e+02, 1.428e+02, 0.000e+00, 0.000e+00],\n",
       "       [0.000e+00, 0.000e+00, 0.000e+00, 0.000e+00, 0.000e+00, 2.300e+01,\n",
       "        1.920e+02, 2.211e+02, 2.883e+02, 7.320e+01, 4.860e+01, 0.000e+00],\n",
       "       [5.650e+01, 0.000e+00, 0.000e+00, 0.000e+00, 0.000e+00, 5.420e+01,\n",
       "        2.570e+01, 2.211e+02, 2.883e+02, 1.640e+02, 0.000e+00, 0.000e+00],\n",
       "       [0.000e+00, 0.000e+00, 0.000e+00, 0.000e+00, 0.000e+00, 0.000e+00,\n",
       "        1.913e+02, 1.657e+02, 1.303e+02, 2.178e+02, 0.000e+00, 0.000e+00],\n",
       "       [0.000e+00, 0.000e+00, 0.000e+00, 0.000e+00, 0.000e+00, 5.250e+01,\n",
       "        1.065e+02, 3.149e+02, 1.104e+02,       nan,       nan,       nan],\n",
       "       [0.000e+00, 4.800e+00, 0.000e+00, 0.000e+00, 1.100e+00, 6.110e+01,\n",
       "        2.647e+02, 2.186e+02, 1.828e+02, 1.340e+02, 0.000e+00, 0.000e+00],\n",
       "       [0.000e+00, 1.500e+00, 0.000e+00, 0.000e+00, 0.000e+00, 8.470e+01,\n",
       "        2.940e+01, 3.660e+02, 2.094e+02, 8.260e+01, 0.000e+00, 0.000e+00],\n",
       "       [      nan, 1.540e+00,       nan,       nan,       nan, 3.100e+00,\n",
       "        3.460e+01, 2.165e+02, 1.340e+02, 5.400e+00,       nan,       nan],\n",
       "       [0.000e+00, 0.000e+00, 0.000e+00, 0.000e+00, 0.000e+00, 4.280e+01,\n",
       "        1.331e+02, 3.301e+02, 1.937e+02, 0.000e+00, 0.000e+00, 0.000e+00],\n",
       "       [0.000e+00, 0.000e+00, 0.000e+00, 0.000e+00, 0.000e+00, 5.700e+00,\n",
       "        1.175e+02, 2.760e+02, 2.079e+02, 7.000e+00, 0.000e+00, 0.000e+00],\n",
       "       [0.000e+00, 0.000e+00, 0.000e+00, 0.000e+00, 0.000e+00, 8.760e+01,\n",
       "        7.770e+01, 1.625e+02, 4.159e+02, 0.000e+00, 0.000e+00, 0.000e+00],\n",
       "       [0.000e+00, 0.000e+00, 0.000e+00, 0.000e+00, 3.000e+00, 1.900e+01,\n",
       "        9.970e+01, 2.538e+02, 1.860e+02, 7.000e+00, 0.000e+00, 0.000e+00],\n",
       "       [0.000e+00, 0.000e+00, 0.000e+00, 0.000e+00,       nan, 8.450e+01,\n",
       "        1.660e+02, 3.100e+02, 5.180e+02, 2.700e+01,       nan,       nan],\n",
       "       [0.000e+00, 0.000e+00, 0.000e+00, 0.000e+00, 0.000e+00, 4.650e+01,\n",
       "        3.530e+01, 3.920e+02, 1.482e+02, 3.200e+01, 0.000e+00, 0.000e+00],\n",
       "       [0.000e+00, 0.000e+00, 0.000e+00, 0.000e+00, 0.000e+00, 1.600e+01,\n",
       "        4.880e+01, 1.270e+02, 2.471e+02, 1.930e+01, 0.000e+00, 0.000e+00],\n",
       "       [0.000e+00, 0.000e+00, 0.000e+00, 0.000e+00, 0.000e+00, 0.000e+00,\n",
       "        4.530e+01, 1.974e+02, 2.307e+02, 1.004e+02, 0.000e+00, 0.000e+00],\n",
       "       [0.000e+00, 0.000e+00, 0.000e+00, 0.000e+00, 0.000e+00, 5.200e+00,\n",
       "        1.657e+02, 2.138e+02, 1.341e+02, 3.500e+01, 0.000e+00, 0.000e+00],\n",
       "       [0.000e+00, 0.000e+00, 0.000e+00, 0.000e+00, 0.000e+00, 1.950e+01,\n",
       "        2.360e+02, 2.632e+02, 7.780e+01, 0.000e+00, 0.000e+00, 0.000e+00]])"
      ]
     },
     "execution_count": 23,
     "metadata": {},
     "output_type": "execute_result"
    }
   ],
   "source": [
    "# la moyenne de la pluviometrie entre 1950 et 1969\n",
    "X=feuille[feuille.columns[2:]].values\n",
    "p1=X[:20]\n",
    "M1=np.nanmean(p1,axis=0)\n",
    "print(M1)\n",
    "X\n"
   ]
  },
  {
   "cell_type": "code",
   "execution_count": 29,
   "id": "e7b08afd",
   "metadata": {
    "scrolled": true
   },
   "outputs": [
    {
     "name": "stderr",
     "output_type": "stream",
     "text": [
      "No handles with labels found to put in legend.\n"
     ]
    },
    {
     "data": {
      "image/png": "[encoded data removed]",
      "text/plain": [
       "<Figure size 864x576 with 1 Axes>"
      ]
     },
     "metadata": {
      "needs_background": "light"
     },
     "output_type": "display_data"
    }
   ],
   "source": [
    "#la courbe de la moyenne de la pluviometrie entre 1950 et 1969\n",
    "fig3,ax3=plt.subplots(figsize=(12,8))\n",
    "x=feuille.columns[2:]\n",
    "y=M1\n",
    "y1=M2\n",
    "y2=M3\n",
    "plt.plot(x,y2,)\n",
    "plt.plot(x,y1)\n",
    "\n",
    "plt.plot(x,y)\n",
    "plt.legend()\n",
    "plt.grid()\n",
    "plt.show()"
   ]
  },
  {
   "cell_type": "code",
   "execution_count": 25,
   "id": "8e9d45a7",
   "metadata": {},
   "outputs": [
    {
     "data": {
      "text/plain": [
       "array([4.00000000e-01, 0.00000000e+00, 0.00000000e+00, 1.33333333e-02,\n",
       "       7.46666667e-01, 4.39066667e+01, 1.15343333e+02, 2.16770000e+02,\n",
       "       1.72040000e+02, 3.69266667e+01, 1.26666667e+00, 1.04333333e+00])"
      ]
     },
     "execution_count": 25,
     "metadata": {},
     "output_type": "execute_result"
    }
   ],
   "source": [
    "# la moyenne de la pluviometrie entre 1970 et 1999 \n",
    "p2=X[20:50]\n",
    "M2=np.nanmean(p2,axis=0)\n",
    "M2\n"
   ]
  },
  {
   "cell_type": "code",
   "execution_count": 26,
   "id": "21208828",
   "metadata": {},
   "outputs": [
    {
     "data": {
      "image/png": "[encoded data removed]",
      "text/plain": [
       "<Figure size 864x576 with 1 Axes>"
      ]
     },
     "metadata": {
      "needs_background": "light"
     },
     "output_type": "display_data"
    }
   ],
   "source": [
    "#la courbe de la moyenne de la pluviometrie entre 1970 et 1999\n",
    "fig4,ax4=plt.subplots(figsize=(12,8))\n",
    "x=feuille.columns[2:]\n",
    "y1=M2\n",
    "plt.plot(x,y1)\n",
    "plt.show()"
   ]
  },
  {
   "cell_type": "code",
   "execution_count": 27,
   "id": "182dd622",
   "metadata": {},
   "outputs": [
    {
     "data": {
      "text/plain": [
       "array([  3.32352941,   0.43555556,   0.        ,   0.        ,\n",
       "         0.25625   ,  34.85555556, 122.7       , 254.08888889,\n",
       "       216.48888889,  61.61764706,   3.24      ,   0.        ])"
      ]
     },
     "execution_count": 27,
     "metadata": {},
     "output_type": "execute_result"
    }
   ],
   "source": [
    "p3=X[50:68]\n",
    "M3=np.nanmean(p3,axis=0)\n",
    "M3\n"
   ]
  },
  {
   "cell_type": "code",
   "execution_count": 28,
   "id": "210d94fb",
   "metadata": {},
   "outputs": [
    {
     "data": {
      "image/png": "[encoded data removed]",
      "text/plain": [
       "<Figure size 432x288 with 1 Axes>"
      ]
     },
     "metadata": {
      "needs_background": "light"
     },
     "output_type": "display_data"
    }
   ],
   "source": [
    "#la courbe de la moyenne de la pluviometrie entre 2000 et 2017\n",
    "x=feuille.columns[2:]\n",
    "y2=M3\n",
    "plt.plot(x,y2)\n",
    "plt.show()"
   ]
  },
  {
   "cell_type": "code",
   "execution_count": 31,
   "id": "fa0a86a4",
   "metadata": {},
   "outputs": [
    {
     "name": "stdout",
     "output_type": "stream",
     "text": [
      "la vecteur obtenu est [1193.6   877.8   919.5  1053.3   926.4  1207.7   773.3   825.3  1011.7\n",
      "  556.1   660.8   570.7   836.8   731.4   870.1   700.5  1004.7  1124.8\n",
      "  463.5   691.7   568.6   949.1   415.5   546.2   634.7   605.4   528.5\n",
      "  427.6   590.7   577.1   478.8   475.5   575.4   265.2   643.4   562.4\n",
      "  539.3   607.8   635.6   898.1   477.1   537.9   483.4   604.    621.8\n",
      "  835.9   666.6   571.9   429.4   900.8   921.9   846.2   809.8   705.1\n",
      "  584.3   867.1   773.6   395.14  699.7   614.1   743.7   568.5  1105.5\n",
      "  654.    458.2   573.8   553.8   596.5 ]\n",
      "\n",
      "\n",
      "la moyenne est : 693.0050000000001\n",
      "\n",
      "\n",
      "la difference le vecteur et sa moyenne est:\n",
      "\n",
      " [ 500.595  184.795  226.495  360.295  233.395  514.695   80.295  132.295\n",
      "  318.695 -136.905  -32.205 -122.305  143.795   38.395  177.095    7.495\n",
      "  311.695  431.795 -229.505   -1.305 -124.405  256.095 -277.505 -146.805\n",
      "  -58.305  -87.605 -164.505 -265.405 -102.305 -115.905 -214.205 -217.505\n",
      " -117.605 -427.805  -49.605 -130.605 -153.705  -85.205  -57.405  205.095\n",
      " -215.905 -155.105 -209.605  -89.005  -71.205  142.895  -26.405 -121.105\n",
      " -263.605  207.795  228.895  153.195  116.795   12.095 -108.705  174.095\n",
      "   80.595 -297.865    6.695  -78.905   50.695 -124.505  412.495  -39.005\n",
      " -234.805 -119.205 -139.205  -96.505]\n"
     ]
    }
   ],
   "source": [
    "#creation de vecteur\n",
    "vect=np.nansum(X,axis=1)\n",
    "print(\"la vecteur obtenu est\",vect)\n",
    "#la meyenne de vecteur\n",
    "moy=np.nanmean(vect)\n",
    "print(\"\\n\\nla moyenne est :\",moy)\n",
    "# la difference entre le vecteur et sa moyenne\n",
    "diff=vect-moy\n",
    "print(\"\\n\\nla difference le vecteur et sa moyenne est:\\n\\n\",diff)"
   ]
  },
  {
   "cell_type": "code",
   "execution_count": 32,
   "id": "9094a6fc",
   "metadata": {},
   "outputs": [
    {
     "data": {
      "image/png": "[encoded data removed]",
      "text/plain": [
       "<Figure size 864x576 with 1 Axes>"
      ]
     },
     "metadata": {
      "needs_background": "light"
     },
     "output_type": "display_data"
    }
   ],
   "source": [
    "# tracer le diagramme en bande\n",
    "fig,ax=plt.subplots(figsize=(12,8))\n",
    "x =feuille.Annees \n",
    "y = diff\n",
    "largeur = 0.5\n",
    "plt.bar(x, y, largeur, label=\"pluviometrie annuelle\")\n",
    "plt.grid()\n",
    "plt.legend()\n",
    "plt.show()"
   ]
  },
  {
   "cell_type": "code",
   "execution_count": 33,
   "id": "fa51de15",
   "metadata": {
    "scrolled": true
   },
   "outputs": [
    {
     "name": "stdout",
     "output_type": "stream",
     "text": [
      "la vecteur obtenu est [1193.6  877.8  919.5 1053.3  926.4 1207.7  773.3  825.3 1011.7  556.1\n",
      "  660.8  570.7  836.8  731.4  870.1  700.5 1004.7 1124.8  463.5  691.7]\n",
      "\n",
      "\n",
      "la moyenne est : 849.985\n",
      "\n",
      "\n",
      "la difference le vecteur et sa moyenne est:\n",
      "\n",
      " [ 500.595  184.795  226.495  360.295  233.395  514.695   80.295  132.295\n",
      "  318.695 -136.905  -32.205 -122.305  143.795   38.395  177.095    7.495\n",
      "  311.695  431.795 -229.505   -1.305]\n"
     ]
    }
   ],
   "source": [
    "# le vecteur represantant la pluvi entre 1950 et 1969\n",
    "vect1=np.nansum(p1,axis=1)\n",
    "print(\"la vecteur obtenu est\",vect1)\n",
    "#la meyenne de vecteur\n",
    "moy1=np.nanmean(vect1)\n",
    "print(\"\\n\\nla moyenne est :\",moy1)\n",
    "# la difference entre le vecteur et sa moyenne\n",
    "diff1=vect1-moy\n",
    "print(\"\\n\\nla difference le vecteur et sa moyenne est:\\n\\n\",diff1)\n",
    "\n",
    "\n"
   ]
  },
  {
   "cell_type": "code",
   "execution_count": 34,
   "id": "81611311",
   "metadata": {},
   "outputs": [
    {
     "data": {
      "image/png": "[encoded data removed]",
      "text/plain": [
       "<Figure size 864x576 with 1 Axes>"
      ]
     },
     "metadata": {
      "needs_background": "light"
     },
     "output_type": "display_data"
    }
   ],
   "source": [
    "# tracer le diagramme en bande entre 1950 et 1969\n",
    "fig1,ax1=plt.subplots(figsize=(12,8))\n",
    "x1 =feuille.Annees[:20] \n",
    "y1 = diff1\n",
    "largeur = 0.5\n",
    "plt.bar(x1, y1, largeur, label=\"pluviometrie 1950-1969\")\n",
    "plt.grid()\n",
    "plt.legend()\n",
    "plt.show()"
   ]
  },
  {
   "cell_type": "code",
   "execution_count": 35,
   "id": "ea91b4fa",
   "metadata": {},
   "outputs": [
    {
     "name": "stdout",
     "output_type": "stream",
     "text": [
      "la vecteur obtenu est [568.6 949.1 415.5 546.2 634.7 605.4 528.5 427.6 590.7 577.1 478.8 475.5\n",
      " 575.4 265.2 643.4 562.4 539.3 607.8 635.6 898.1 477.1 537.9 483.4 604.\n",
      " 621.8 835.9 666.6 571.9 429.4 900.8]\n",
      "\n",
      "\n",
      "la moyenne est : 588.4566666666666\n",
      "\n",
      "\n",
      "la difference le vecteur et sa moyenne est:\n",
      "\n",
      " [-124.405  256.095 -277.505 -146.805  -58.305  -87.605 -164.505 -265.405\n",
      " -102.305 -115.905 -214.205 -217.505 -117.605 -427.805  -49.605 -130.605\n",
      " -153.705  -85.205  -57.405  205.095 -215.905 -155.105 -209.605  -89.005\n",
      "  -71.205  142.895  -26.405 -121.105 -263.605  207.795]\n"
     ]
    }
   ],
   "source": [
    "# le vecteur represantant la pluvi entre 1970 et 1969\n",
    "vect2=np.nansum(p2,axis=1)\n",
    "print(\"la vecteur obtenu est\",vect2)\n",
    "#la meyenne de vecteur\n",
    "moy2=np.nanmean(vect2)\n",
    "print(\"\\n\\nla moyenne est :\",moy2)\n",
    "# la difference entre le vecteur et sa moyenne\n",
    "diff2=vect2-moy\n",
    "\n",
    "\n",
    "print(\"\\n\\nla difference le vecteur et sa moyenne est:\\n\\n\",diff2)\n",
    "\n"
   ]
  },
  {
   "cell_type": "code",
   "execution_count": 36,
   "id": "c5f2d9b7",
   "metadata": {},
   "outputs": [
    {
     "data": {
      "image/png": "[encoded data removed]",
      "text/plain": [
       "<Figure size 864x576 with 1 Axes>"
      ]
     },
     "metadata": {
      "needs_background": "light"
     },
     "output_type": "display_data"
    }
   ],
   "source": [
    "# tracer le diagramme en bande entre 1970 et 1999\n",
    "fig2,ax2=plt.subplots(figsize=(12,8))\n",
    "x2 =feuille.Annees[20:50] \n",
    "y2 = diff2\n",
    "largeur = 0.5\n",
    "plt.bar(x2, y2, largeur, label=\"pluviometrie 1970-1999\")\n",
    "plt.grid()\n",
    "plt.legend()\n",
    "plt.show()"
   ]
  },
  {
   "cell_type": "code",
   "execution_count": 37,
   "id": "934b6a97",
   "metadata": {},
   "outputs": [
    {
     "name": "stdout",
     "output_type": "stream",
     "text": [
      "la vecteur obtenu est [ 921.9   846.2   809.8   705.1   584.3   867.1   773.6   395.14  699.7\n",
      "  614.1   743.7   568.5  1105.5   654.    458.2   573.8   553.8   596.5 ]\n",
      "\n",
      "\n",
      "la moyenne est : 692.8299999999999\n",
      "\n",
      "\n",
      "la difference le vecteur et sa moyenne est:\n",
      "\n",
      " [ 228.895  153.195  116.795   12.095 -108.705  174.095   80.595 -297.865\n",
      "    6.695  -78.905   50.695 -124.505  412.495  -39.005 -234.805 -119.205\n",
      " -139.205  -96.505]\n"
     ]
    }
   ],
   "source": [
    "# le vecteur represantant la pluvi entre 2000 et 2017\n",
    "vect3=np.nansum(p3,axis=1)\n",
    "print(\"la vecteur obtenu est\",vect3)\n",
    "#la meyenne de vecteur\n",
    "moy3=np.nanmean(vect3)\n",
    "print(\"\\n\\nla moyenne est :\",moy3)\n",
    "# la difference entre le vecteur et sa moyenne\n",
    "diff3=vect3-moy\n",
    "print(\"\\n\\nla difference le vecteur et sa moyenne est:\\n\\n\",diff3)\n",
    "\n"
   ]
  },
  {
   "cell_type": "code",
   "execution_count": null,
   "id": "6a4ab570",
   "metadata": {},
   "outputs": [],
   "source": [
    "# tracer le diagramme en bande entre 2000 et 2017\n",
    "fig2,ax2=plt.subplots(figsize=(12,8))\n",
    "x3 =feuille.Annees[50:68] \n",
    "y3= diff3\n",
    "largeur = 0.5\n",
    "plt.bar(x3, y3, largeur, label=\"pluviometrie 2000-2017\")\n",
    "plt.grid()\n",
    "plt.legend()\n",
    "plt.show()"
   ]
  },
  {
   "cell_type": "code",
   "execution_count": 45,
   "id": "2611a320",
   "metadata": {},
   "outputs": [
    {
     "ename": "com_error",
     "evalue": "(-2147221005, 'Chaîne de classe incorrecte', None, None)",
     "output_type": "error",
     "traceback": [
      "\u001b[1;31m---------------------------------------------------------------------------\u001b[0m",
      "\u001b[1;31mcom_error\u001b[0m                                 Traceback (most recent call last)",
      "\u001b[1;32m~\\AppData\\Local\\Temp/ipykernel_6996/3569765114.py\u001b[0m in \u001b[0;36m<module>\u001b[1;34m\u001b[0m\n\u001b[0;32m      1\u001b[0m \u001b[1;32mimport\u001b[0m \u001b[0mxlwings\u001b[0m \u001b[1;32mas\u001b[0m \u001b[0mxl\u001b[0m\u001b[1;33m\u001b[0m\u001b[1;33m\u001b[0m\u001b[0m\n\u001b[1;32m----> 2\u001b[1;33m \u001b[0mpluie_fatick\u001b[0m\u001b[1;33m=\u001b[0m\u001b[0mxl\u001b[0m\u001b[1;33m.\u001b[0m\u001b[0mBook\u001b[0m\u001b[1;33m(\u001b[0m\u001b[1;34m\"pluvio_senegal.xlsx\"\u001b[0m\u001b[1;33m)\u001b[0m\u001b[1;33m\u001b[0m\u001b[1;33m\u001b[0m\u001b[0m\n\u001b[0m",
      "\u001b[1;32m~\\anaconda3\\lib\\site-packages\\xlwings\\main.py\u001b[0m in \u001b[0;36m__init__\u001b[1;34m(self, fullname, update_links, read_only, format, password, write_res_password, ignore_read_only_recommended, origin, delimiter, editable, notify, converter, add_to_mru, local, corrupt_load, impl)\u001b[0m\n\u001b[0;32m    679\u001b[0m                 \u001b[1;32mif\u001b[0m \u001b[0mlen\u001b[0m\u001b[1;33m(\u001b[0m\u001b[0mcandidates\u001b[0m\u001b[1;33m)\u001b[0m \u001b[1;33m==\u001b[0m \u001b[1;36m0\u001b[0m\u001b[1;33m:\u001b[0m\u001b[1;33m\u001b[0m\u001b[1;33m\u001b[0m\u001b[0m\n\u001b[0;32m    680\u001b[0m                     \u001b[1;32mif\u001b[0m \u001b[1;32mnot\u001b[0m \u001b[0mapp\u001b[0m\u001b[1;33m:\u001b[0m\u001b[1;33m\u001b[0m\u001b[1;33m\u001b[0m\u001b[0m\n\u001b[1;32m--> 681\u001b[1;33m                         \u001b[0mapp\u001b[0m \u001b[1;33m=\u001b[0m \u001b[0mApp\u001b[0m\u001b[1;33m(\u001b[0m\u001b[0madd_book\u001b[0m\u001b[1;33m=\u001b[0m\u001b[1;32mFalse\u001b[0m\u001b[1;33m)\u001b[0m\u001b[1;33m\u001b[0m\u001b[1;33m\u001b[0m\u001b[0m\n\u001b[0m\u001b[0;32m    682\u001b[0m                     impl = app.books.open(fullname, update_links, read_only, format, password, write_res_password,\n\u001b[0;32m    683\u001b[0m                                           \u001b[0mignore_read_only_recommended\u001b[0m\u001b[1;33m,\u001b[0m \u001b[0morigin\u001b[0m\u001b[1;33m,\u001b[0m \u001b[0mdelimiter\u001b[0m\u001b[1;33m,\u001b[0m \u001b[0meditable\u001b[0m\u001b[1;33m,\u001b[0m \u001b[0mnotify\u001b[0m\u001b[1;33m,\u001b[0m \u001b[0mconverter\u001b[0m\u001b[1;33m,\u001b[0m\u001b[1;33m\u001b[0m\u001b[1;33m\u001b[0m\u001b[0m\n",
      "\u001b[1;32m~\\anaconda3\\lib\\site-packages\\xlwings\\main.py\u001b[0m in \u001b[0;36m__init__\u001b[1;34m(self, visible, spec, add_book, impl)\u001b[0m\n\u001b[0;32m    217\u001b[0m     \u001b[1;32mdef\u001b[0m \u001b[0m__init__\u001b[0m\u001b[1;33m(\u001b[0m\u001b[0mself\u001b[0m\u001b[1;33m,\u001b[0m \u001b[0mvisible\u001b[0m\u001b[1;33m=\u001b[0m\u001b[1;32mNone\u001b[0m\u001b[1;33m,\u001b[0m \u001b[0mspec\u001b[0m\u001b[1;33m=\u001b[0m\u001b[1;32mNone\u001b[0m\u001b[1;33m,\u001b[0m \u001b[0madd_book\u001b[0m\u001b[1;33m=\u001b[0m\u001b[1;32mTrue\u001b[0m\u001b[1;33m,\u001b[0m \u001b[0mimpl\u001b[0m\u001b[1;33m=\u001b[0m\u001b[1;32mNone\u001b[0m\u001b[1;33m)\u001b[0m\u001b[1;33m:\u001b[0m\u001b[1;33m\u001b[0m\u001b[1;33m\u001b[0m\u001b[0m\n\u001b[0;32m    218\u001b[0m         \u001b[1;32mif\u001b[0m \u001b[0mimpl\u001b[0m \u001b[1;32mis\u001b[0m \u001b[1;32mNone\u001b[0m\u001b[1;33m:\u001b[0m\u001b[1;33m\u001b[0m\u001b[1;33m\u001b[0m\u001b[0m\n\u001b[1;32m--> 219\u001b[1;33m             \u001b[0mself\u001b[0m\u001b[1;33m.\u001b[0m\u001b[0mimpl\u001b[0m \u001b[1;33m=\u001b[0m \u001b[0mxlplatform\u001b[0m\u001b[1;33m.\u001b[0m\u001b[0mApp\u001b[0m\u001b[1;33m(\u001b[0m\u001b[0mspec\u001b[0m\u001b[1;33m=\u001b[0m\u001b[0mspec\u001b[0m\u001b[1;33m,\u001b[0m \u001b[0madd_book\u001b[0m\u001b[1;33m=\u001b[0m\u001b[0madd_book\u001b[0m\u001b[1;33m,\u001b[0m \u001b[0mvisible\u001b[0m\u001b[1;33m=\u001b[0m\u001b[0mvisible\u001b[0m\u001b[1;33m)\u001b[0m\u001b[1;33m\u001b[0m\u001b[1;33m\u001b[0m\u001b[0m\n\u001b[0m\u001b[0;32m    220\u001b[0m             \u001b[1;32mif\u001b[0m \u001b[0mvisible\u001b[0m \u001b[1;32mor\u001b[0m \u001b[0mvisible\u001b[0m \u001b[1;32mis\u001b[0m \u001b[1;32mNone\u001b[0m\u001b[1;33m:\u001b[0m\u001b[1;33m\u001b[0m\u001b[1;33m\u001b[0m\u001b[0m\n\u001b[0;32m    221\u001b[0m                 \u001b[0mself\u001b[0m\u001b[1;33m.\u001b[0m\u001b[0mvisible\u001b[0m \u001b[1;33m=\u001b[0m \u001b[1;32mTrue\u001b[0m\u001b[1;33m\u001b[0m\u001b[1;33m\u001b[0m\u001b[0m\n",
      "\u001b[1;32m~\\anaconda3\\lib\\site-packages\\xlwings\\_xlwindows.py\u001b[0m in \u001b[0;36m__init__\u001b[1;34m(self, spec, add_book, xl, visible)\u001b[0m\n\u001b[0;32m    315\u001b[0m         \u001b[1;32mif\u001b[0m \u001b[0mxl\u001b[0m \u001b[1;32mis\u001b[0m \u001b[1;32mNone\u001b[0m\u001b[1;33m:\u001b[0m\u001b[1;33m\u001b[0m\u001b[1;33m\u001b[0m\u001b[0m\n\u001b[0;32m    316\u001b[0m             \u001b[1;31m# new instance\u001b[0m\u001b[1;33m\u001b[0m\u001b[1;33m\u001b[0m\u001b[0m\n\u001b[1;32m--> 317\u001b[1;33m             \u001b[0mself\u001b[0m\u001b[1;33m.\u001b[0m\u001b[0m_xl\u001b[0m \u001b[1;33m=\u001b[0m \u001b[0mCOMRetryObjectWrapper\u001b[0m\u001b[1;33m(\u001b[0m\u001b[0mDispatchEx\u001b[0m\u001b[1;33m(\u001b[0m\u001b[1;34m'Excel.Application'\u001b[0m\u001b[1;33m)\u001b[0m\u001b[1;33m)\u001b[0m\u001b[1;33m\u001b[0m\u001b[1;33m\u001b[0m\u001b[0m\n\u001b[0m\u001b[0;32m    318\u001b[0m             \u001b[1;32mif\u001b[0m \u001b[0madd_book\u001b[0m\u001b[1;33m:\u001b[0m\u001b[1;33m\u001b[0m\u001b[1;33m\u001b[0m\u001b[0m\n\u001b[0;32m    319\u001b[0m                 \u001b[0mself\u001b[0m\u001b[1;33m.\u001b[0m\u001b[0m_xl\u001b[0m\u001b[1;33m.\u001b[0m\u001b[0mWorkbooks\u001b[0m\u001b[1;33m.\u001b[0m\u001b[0mAdd\u001b[0m\u001b[1;33m(\u001b[0m\u001b[1;33m)\u001b[0m\u001b[1;33m\u001b[0m\u001b[1;33m\u001b[0m\u001b[0m\n",
      "\u001b[1;32m~\\anaconda3\\lib\\site-packages\\win32com\\client\\__init__.py\u001b[0m in \u001b[0;36mDispatchEx\u001b[1;34m(clsid, machine, userName, resultCLSID, typeinfo, UnicodeToString, clsctx)\u001b[0m\n\u001b[0;32m    111\u001b[0m     \u001b[0mserverInfo\u001b[0m \u001b[1;33m=\u001b[0m \u001b[1;33m(\u001b[0m\u001b[0mmachine\u001b[0m\u001b[1;33m,\u001b[0m\u001b[1;33m)\u001b[0m\u001b[1;33m\u001b[0m\u001b[1;33m\u001b[0m\u001b[0m\n\u001b[0;32m    112\u001b[0m   \u001b[1;32mif\u001b[0m \u001b[0muserName\u001b[0m \u001b[1;32mis\u001b[0m \u001b[1;32mNone\u001b[0m\u001b[1;33m:\u001b[0m \u001b[0muserName\u001b[0m \u001b[1;33m=\u001b[0m \u001b[0mclsid\u001b[0m\u001b[1;33m\u001b[0m\u001b[1;33m\u001b[0m\u001b[0m\n\u001b[1;32m--> 113\u001b[1;33m   \u001b[0mdispatch\u001b[0m \u001b[1;33m=\u001b[0m \u001b[0mpythoncom\u001b[0m\u001b[1;33m.\u001b[0m\u001b[0mCoCreateInstanceEx\u001b[0m\u001b[1;33m(\u001b[0m\u001b[0mclsid\u001b[0m\u001b[1;33m,\u001b[0m \u001b[1;32mNone\u001b[0m\u001b[1;33m,\u001b[0m \u001b[0mclsctx\u001b[0m\u001b[1;33m,\u001b[0m \u001b[0mserverInfo\u001b[0m\u001b[1;33m,\u001b[0m \u001b[1;33m(\u001b[0m\u001b[0mpythoncom\u001b[0m\u001b[1;33m.\u001b[0m\u001b[0mIID_IDispatch\u001b[0m\u001b[1;33m,\u001b[0m\u001b[1;33m)\u001b[0m\u001b[1;33m)\u001b[0m\u001b[1;33m[\u001b[0m\u001b[1;36m0\u001b[0m\u001b[1;33m]\u001b[0m\u001b[1;33m\u001b[0m\u001b[1;33m\u001b[0m\u001b[0m\n\u001b[0m\u001b[0;32m    114\u001b[0m   \u001b[1;32mreturn\u001b[0m \u001b[0mDispatch\u001b[0m\u001b[1;33m(\u001b[0m\u001b[0mdispatch\u001b[0m\u001b[1;33m,\u001b[0m \u001b[0muserName\u001b[0m\u001b[1;33m,\u001b[0m \u001b[0mresultCLSID\u001b[0m\u001b[1;33m,\u001b[0m \u001b[0mtypeinfo\u001b[0m\u001b[1;33m,\u001b[0m \u001b[0mclsctx\u001b[0m\u001b[1;33m=\u001b[0m\u001b[0mclsctx\u001b[0m\u001b[1;33m)\u001b[0m\u001b[1;33m\u001b[0m\u001b[1;33m\u001b[0m\u001b[0m\n\u001b[0;32m    115\u001b[0m \u001b[1;33m\u001b[0m\u001b[0m\n",
      "\u001b[1;31mcom_error\u001b[0m: (-2147221005, 'Chaîne de classe incorrecte', None, None)"
     ]
    }
   ],
   "source": [
    "import xlwings as xl\n",
    "pluie_fatick=xl.Book(\"pluvio_senegal.xlsx\")\n",
    "pluie_fatick.\n"
   ]
  },
  {
   "cell_type": "code",
   "execution_count": null,
   "id": "ee6d2804",
   "metadata": {},
   "outputs": [],
   "source": []
  }
 ],
 "metadata": {
  "kernelspec": {
   "display_name": "Python 3 (ipykernel)",
   "language": "python",
   "name": "python3"
  },
  "language_info": {
   "codemirror_mode": {
    "name": "ipython",
    "version": 3
   },
   "file_extension": ".py",
   "mimetype": "text/x-python",
   "name": "python",
   "nbconvert_exporter": "python",
   "pygments_lexer": "ipython3",
   "version": "3.9.7"
  }
 },
 "nbformat": 4,
 "nbformat_minor": 5
}
